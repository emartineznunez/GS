{
  "nbformat": 4,
  "nbformat_minor": 0,
  "metadata": {
    "colab": {
      "provenance": []
    },
    "kernelspec": {
      "name": "python3",
      "display_name": "Python 3"
    },
    "language_info": {
      "name": "python"
    }
  },
  "cells": [
    {
      "cell_type": "code",
      "source": [
        "%%capture\n",
        "!apt install cm-super dvipng texlive-latex-extra texlive-latex-recommended\n",
        "!pip install scholarly"
      ],
      "metadata": {
        "id": "BzuQ6PJI3l2Q"
      },
      "execution_count": 1,
      "outputs": []
    },
    {
      "cell_type": "code",
      "execution_count": 2,
      "metadata": {
        "colab": {
          "base_uri": "https://localhost:8080/",
          "height": 402
        },
        "id": "A47cfezo22yB",
        "outputId": "f5d034e5-f4ea-4a33-fc43-f9c71a344bf8"
      },
      "outputs": [
        {
          "output_type": "error",
          "ename": "NameError",
          "evalue": "name 'author' is not defined",
          "traceback": [
            "\u001b[0;31m---------------------------------------------------------------------------\u001b[0m",
            "\u001b[0;31mNameError\u001b[0m                                 Traceback (most recent call last)",
            "\u001b[0;32m<ipython-input-2-5d441fb22167>\u001b[0m in \u001b[0;36m<cell line: 15>\u001b[0;34m()\u001b[0m\n\u001b[1;32m     13\u001b[0m \u001b[0;34m\u001b[0m\u001b[0m\n\u001b[1;32m     14\u001b[0m \u001b[0;31m# Take a closer look at the first publication\u001b[0m\u001b[0;34m\u001b[0m\u001b[0;34m\u001b[0m\u001b[0m\n\u001b[0;32m---> 15\u001b[0;31m \u001b[0mauthor\u001b[0m \u001b[0;34m=\u001b[0m \u001b[0mscholarly\u001b[0m\u001b[0;34m.\u001b[0m\u001b[0mfill\u001b[0m\u001b[0;34m(\u001b[0m\u001b[0mauthor\u001b[0m\u001b[0;34m,\u001b[0m \u001b[0msections\u001b[0m\u001b[0;34m=\u001b[0m\u001b[0;34m[\u001b[0m\u001b[0;34m'counts'\u001b[0m\u001b[0;34m,\u001b[0m\u001b[0;34m'coauthors'\u001b[0m\u001b[0;34m]\u001b[0m\u001b[0;34m)\u001b[0m\u001b[0;34m\u001b[0m\u001b[0;34m\u001b[0m\u001b[0m\n\u001b[0m\u001b[1;32m     16\u001b[0m \u001b[0mprint\u001b[0m\u001b[0;34m(\u001b[0m\u001b[0mauthor\u001b[0m\u001b[0;34m[\u001b[0m\u001b[0;34m'name'\u001b[0m\u001b[0;34m]\u001b[0m\u001b[0;34m)\u001b[0m\u001b[0;34m\u001b[0m\u001b[0;34m\u001b[0m\u001b[0m\n\u001b[1;32m     17\u001b[0m \u001b[0mprint\u001b[0m\u001b[0;34m(\u001b[0m\u001b[0mauthor\u001b[0m\u001b[0;34m[\u001b[0m\u001b[0;34m'affiliation'\u001b[0m\u001b[0;34m]\u001b[0m\u001b[0;34m)\u001b[0m\u001b[0;34m\u001b[0m\u001b[0;34m\u001b[0m\u001b[0m\n",
            "\u001b[0;31mNameError\u001b[0m: name 'author' is not defined"
          ]
        }
      ],
      "source": [
        "from scholarly import scholarly\n",
        "import matplotlib.pyplot as plt\n",
        "from datetime import datetime\n",
        "\n",
        "now = datetime.now()\n",
        "now = now.strftime(\"%d/%m/%Y\")\n",
        "\n",
        "# Retrieve the author's data and fill-in\n",
        "search_query = scholarly.search_author('Emilio Martinez-Nunez')\n",
        "author = scholarly.fill(next(search_query))\n",
        "\n",
        "# Take a closer look at the first publication\n",
        "author = scholarly.fill(author, sections=['counts','coauthors'])\n",
        "print(author['name'])\n",
        "print(author['affiliation'])\n",
        "print('')\n",
        "print('# citations = ',author['citedby'])\n",
        "print('# last 5y   = ',author['citedby5y'])\n",
        "print('  h-index   = ',author['hindex'])\n",
        "cpy = author['cites_per_year']\n",
        "\n",
        "years = list(cpy.keys())\n",
        "citpy = list(cpy.values())\n",
        "\n",
        "plt.rcParams['text.usetex'] = True\n",
        "\n",
        "color = 'silver'\n",
        "edgecolor = 'dimgray'\n",
        "\n",
        "plt.figure(figsize=(15,5))\n",
        "plt.bar(range(len(cpy)), citpy, tick_label=years, color=color, edgecolor=edgecolor)\n",
        "xlocs, xlabs = plt.xticks()\n",
        "plt.title('Date: '+str(now), fontsize=20)\n",
        "plt.ylabel('$\\mathrm{\\#\\ of\\ citations}$',fontsize=24)\n",
        "plt.xlabel('$\\mathrm{Year}$',fontsize=24)\n",
        "plt.xticks(fontsize=12)\n",
        "plt.yticks(fontsize=16)\n",
        "for i, v in enumerate(citpy): plt.text(xlocs[i]-0.25, v + 1, str(v), fontsize=12, color='dimgray')\n",
        "plt.savefig('citations_'+str(now).replace(\"/\",\"_\")+'.png')\n",
        "plt.show()"
      ]
    }
  ]
}